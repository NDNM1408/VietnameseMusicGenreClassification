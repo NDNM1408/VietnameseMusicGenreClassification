{
 "cells": [
  {
   "cell_type": "markdown",
   "id": "952d1af3-626e-44ce-b47b-89aa56b4c977",
   "metadata": {},
   "source": [
    "# VietNamese Music Classification\n",
    "## 1. Data-preprocessing"
   ]
  },
  {
   "cell_type": "code",
   "execution_count": 43,
   "id": "9d4435f1-a81e-47bc-95b1-cef00b64585e",
   "metadata": {},
   "outputs": [],
   "source": [
    "import numpy as np\n",
    "import matplotlib.pyplot as plt\n",
    "import seaborn as sns\n",
    "import pandas as pd"
   ]
  },
  {
   "cell_type": "code",
   "execution_count": 44,
   "id": "e9b88dcd-f0f2-4857-97d1-74ccdd0a6bd6",
   "metadata": {},
   "outputs": [],
   "source": [
    "import os\n",
    "import glob\n",
    "import pandas as pd\n",
    "\n",
    "# Đường dẫn đến thư mục chứa các file CSV\n",
    "directory = './data'\n",
    "\n",
    "# Tìm tất cả các file CSV trong thư mục\n",
    "all_files = glob.glob(os.path.join(directory, '*.csv'))\n",
    "\n",
    "# Đọc và gộp các file CSV thành một DataFrame\n",
    "df_from_each_file = (pd.read_csv(f) for f in all_files)\n",
    "merged_df = pd.concat(df_from_each_file, ignore_index=True)\n",
    "\n",
    "# Lưu DataFrame gộp thành một file CSV\n",
    "merged_df.to_csv('all_data.csv', index=False)"
   ]
  },
  {
   "cell_type": "code",
   "execution_count": 45,
   "id": "df3759af-3b33-4fd3-aa27-286191580f01",
   "metadata": {},
   "outputs": [],
   "source": [
    "dataset = pd.read_csv('./all_data.csv')"
   ]
  },
  {
   "cell_type": "code",
   "execution_count": 4,
   "id": "31e15b9a-eaf9-4f2e-b7d9-d1644136bf2e",
   "metadata": {},
   "outputs": [
    {
     "data": {
      "text/html": [
       "<div>\n",
       "<style scoped>\n",
       "    .dataframe tbody tr th:only-of-type {\n",
       "        vertical-align: middle;\n",
       "    }\n",
       "\n",
       "    .dataframe tbody tr th {\n",
       "        vertical-align: top;\n",
       "    }\n",
       "\n",
       "    .dataframe thead th {\n",
       "        text-align: right;\n",
       "    }\n",
       "</style>\n",
       "<table border=\"1\" class=\"dataframe\">\n",
       "  <thead>\n",
       "    <tr style=\"text-align: right;\">\n",
       "      <th></th>\n",
       "      <th>Unnamed: 0</th>\n",
       "      <th>filename</th>\n",
       "      <th>chroma_stft_mean</th>\n",
       "      <th>chroma_stft_var</th>\n",
       "      <th>rms_mean</th>\n",
       "      <th>rms_var</th>\n",
       "      <th>spectral_centroid_mean</th>\n",
       "      <th>spectral_centroid_var</th>\n",
       "      <th>spectral_bandwidth_mean</th>\n",
       "      <th>spectral_bandwidth_var</th>\n",
       "      <th>...</th>\n",
       "      <th>mfcc16_var</th>\n",
       "      <th>mfcc17_mean</th>\n",
       "      <th>mfcc17_var</th>\n",
       "      <th>mfcc18_mean</th>\n",
       "      <th>mfcc18_var</th>\n",
       "      <th>mfcc19_mean</th>\n",
       "      <th>mfcc19_var</th>\n",
       "      <th>mfcc20_mean</th>\n",
       "      <th>mfcc20_var</th>\n",
       "      <th>label</th>\n",
       "    </tr>\n",
       "  </thead>\n",
       "  <tbody>\n",
       "    <tr>\n",
       "      <th>0</th>\n",
       "      <td>0</td>\n",
       "      <td>72_Nói Với Em Rằng... - Bùi Anh Tuấn _Official...</td>\n",
       "      <td>0.239606</td>\n",
       "      <td>0.088226</td>\n",
       "      <td>0.100619</td>\n",
       "      <td>0.007034</td>\n",
       "      <td>1574.444990</td>\n",
       "      <td>544040.065296</td>\n",
       "      <td>2224.814467</td>\n",
       "      <td>284067.593368</td>\n",
       "      <td>...</td>\n",
       "      <td>89.418810</td>\n",
       "      <td>0.118583</td>\n",
       "      <td>68.827360</td>\n",
       "      <td>-1.935302</td>\n",
       "      <td>71.693900</td>\n",
       "      <td>3.287505</td>\n",
       "      <td>96.955734</td>\n",
       "      <td>-7.828844</td>\n",
       "      <td>94.283900</td>\n",
       "      <td>ballad</td>\n",
       "    </tr>\n",
       "    <tr>\n",
       "      <th>1</th>\n",
       "      <td>1</td>\n",
       "      <td>96_Yêu Thương Ngày Đó - SOOBIN Hoàng Sơn</td>\n",
       "      <td>0.279810</td>\n",
       "      <td>0.086356</td>\n",
       "      <td>0.108011</td>\n",
       "      <td>0.002598</td>\n",
       "      <td>1669.862977</td>\n",
       "      <td>532744.220849</td>\n",
       "      <td>2079.801580</td>\n",
       "      <td>222307.077317</td>\n",
       "      <td>...</td>\n",
       "      <td>78.416466</td>\n",
       "      <td>-7.484340</td>\n",
       "      <td>75.549130</td>\n",
       "      <td>-0.149236</td>\n",
       "      <td>72.972340</td>\n",
       "      <td>-2.338418</td>\n",
       "      <td>85.452460</td>\n",
       "      <td>-6.283576</td>\n",
       "      <td>138.789260</td>\n",
       "      <td>ballad</td>\n",
       "    </tr>\n",
       "    <tr>\n",
       "      <th>2</th>\n",
       "      <td>2</td>\n",
       "      <td>25_Chẳng Ai Đến Thế Giới Này Để Cô Đơn</td>\n",
       "      <td>0.224870</td>\n",
       "      <td>0.086093</td>\n",
       "      <td>0.195526</td>\n",
       "      <td>0.015495</td>\n",
       "      <td>1049.548392</td>\n",
       "      <td>463953.746344</td>\n",
       "      <td>1336.162599</td>\n",
       "      <td>863011.108564</td>\n",
       "      <td>...</td>\n",
       "      <td>94.493965</td>\n",
       "      <td>-7.304261</td>\n",
       "      <td>74.785904</td>\n",
       "      <td>-3.813618</td>\n",
       "      <td>79.665250</td>\n",
       "      <td>-5.267002</td>\n",
       "      <td>96.953660</td>\n",
       "      <td>-6.046769</td>\n",
       "      <td>102.859360</td>\n",
       "      <td>ballad</td>\n",
       "    </tr>\n",
       "    <tr>\n",
       "      <th>3</th>\n",
       "      <td>3</td>\n",
       "      <td>41_Chua Bao Gio</td>\n",
       "      <td>0.224099</td>\n",
       "      <td>0.086295</td>\n",
       "      <td>0.085731</td>\n",
       "      <td>0.002403</td>\n",
       "      <td>1406.810672</td>\n",
       "      <td>342871.230130</td>\n",
       "      <td>1680.324965</td>\n",
       "      <td>201474.808183</td>\n",
       "      <td>...</td>\n",
       "      <td>117.047420</td>\n",
       "      <td>-4.986906</td>\n",
       "      <td>123.561220</td>\n",
       "      <td>-1.311286</td>\n",
       "      <td>115.603424</td>\n",
       "      <td>-7.030957</td>\n",
       "      <td>127.136140</td>\n",
       "      <td>-1.071963</td>\n",
       "      <td>175.931080</td>\n",
       "      <td>ballad</td>\n",
       "    </tr>\n",
       "    <tr>\n",
       "      <th>4</th>\n",
       "      <td>4</td>\n",
       "      <td>5_Khoc Cung Em</td>\n",
       "      <td>0.314306</td>\n",
       "      <td>0.090720</td>\n",
       "      <td>0.261103</td>\n",
       "      <td>0.006896</td>\n",
       "      <td>2669.434127</td>\n",
       "      <td>708916.480682</td>\n",
       "      <td>2746.789623</td>\n",
       "      <td>194569.102027</td>\n",
       "      <td>...</td>\n",
       "      <td>75.235054</td>\n",
       "      <td>1.617485</td>\n",
       "      <td>103.620310</td>\n",
       "      <td>5.682794</td>\n",
       "      <td>105.249954</td>\n",
       "      <td>-1.578305</td>\n",
       "      <td>88.727880</td>\n",
       "      <td>-0.139855</td>\n",
       "      <td>81.884926</td>\n",
       "      <td>ballad</td>\n",
       "    </tr>\n",
       "  </tbody>\n",
       "</table>\n",
       "<p>5 rows × 60 columns</p>\n",
       "</div>"
      ],
      "text/plain": [
       "   Unnamed: 0                                           filename  \\\n",
       "0           0  72_Nói Với Em Rằng... - Bùi Anh Tuấn _Official...   \n",
       "1           1           96_Yêu Thương Ngày Đó - SOOBIN Hoàng Sơn   \n",
       "2           2             25_Chẳng Ai Đến Thế Giới Này Để Cô Đơn   \n",
       "3           3                                    41_Chua Bao Gio   \n",
       "4           4                                     5_Khoc Cung Em   \n",
       "\n",
       "   chroma_stft_mean  chroma_stft_var  rms_mean   rms_var  \\\n",
       "0          0.239606         0.088226  0.100619  0.007034   \n",
       "1          0.279810         0.086356  0.108011  0.002598   \n",
       "2          0.224870         0.086093  0.195526  0.015495   \n",
       "3          0.224099         0.086295  0.085731  0.002403   \n",
       "4          0.314306         0.090720  0.261103  0.006896   \n",
       "\n",
       "   spectral_centroid_mean  spectral_centroid_var  spectral_bandwidth_mean  \\\n",
       "0             1574.444990          544040.065296              2224.814467   \n",
       "1             1669.862977          532744.220849              2079.801580   \n",
       "2             1049.548392          463953.746344              1336.162599   \n",
       "3             1406.810672          342871.230130              1680.324965   \n",
       "4             2669.434127          708916.480682              2746.789623   \n",
       "\n",
       "   spectral_bandwidth_var  ...  mfcc16_var  mfcc17_mean  mfcc17_var  \\\n",
       "0           284067.593368  ...   89.418810     0.118583   68.827360   \n",
       "1           222307.077317  ...   78.416466    -7.484340   75.549130   \n",
       "2           863011.108564  ...   94.493965    -7.304261   74.785904   \n",
       "3           201474.808183  ...  117.047420    -4.986906  123.561220   \n",
       "4           194569.102027  ...   75.235054     1.617485  103.620310   \n",
       "\n",
       "   mfcc18_mean  mfcc18_var  mfcc19_mean  mfcc19_var  mfcc20_mean  mfcc20_var  \\\n",
       "0    -1.935302   71.693900     3.287505   96.955734    -7.828844   94.283900   \n",
       "1    -0.149236   72.972340    -2.338418   85.452460    -6.283576  138.789260   \n",
       "2    -3.813618   79.665250    -5.267002   96.953660    -6.046769  102.859360   \n",
       "3    -1.311286  115.603424    -7.030957  127.136140    -1.071963  175.931080   \n",
       "4     5.682794  105.249954    -1.578305   88.727880    -0.139855   81.884926   \n",
       "\n",
       "    label  \n",
       "0  ballad  \n",
       "1  ballad  \n",
       "2  ballad  \n",
       "3  ballad  \n",
       "4  ballad  \n",
       "\n",
       "[5 rows x 60 columns]"
      ]
     },
     "execution_count": 4,
     "metadata": {},
     "output_type": "execute_result"
    }
   ],
   "source": [
    "dataset.head()"
   ]
  },
  {
   "cell_type": "code",
   "execution_count": 5,
   "id": "224b32d2-4c9c-4dc1-b77e-a2f894b578dc",
   "metadata": {},
   "outputs": [
    {
     "name": "stdout",
     "output_type": "stream",
     "text": [
      "<class 'pandas.core.frame.DataFrame'>\n",
      "RangeIndex: 647 entries, 0 to 646\n",
      "Data columns (total 60 columns):\n",
      " #   Column                   Non-Null Count  Dtype  \n",
      "---  ------                   --------------  -----  \n",
      " 0   Unnamed: 0               647 non-null    int64  \n",
      " 1   filename                 647 non-null    object \n",
      " 2   chroma_stft_mean         647 non-null    float64\n",
      " 3   chroma_stft_var          647 non-null    float64\n",
      " 4   rms_mean                 647 non-null    float64\n",
      " 5   rms_var                  647 non-null    float64\n",
      " 6   spectral_centroid_mean   647 non-null    float64\n",
      " 7   spectral_centroid_var    647 non-null    float64\n",
      " 8   spectral_bandwidth_mean  647 non-null    float64\n",
      " 9   spectral_bandwidth_var   647 non-null    float64\n",
      " 10  rolloff_mean             647 non-null    float64\n",
      " 11  rolloff_var              647 non-null    float64\n",
      " 12  zero_crossing_rate_mean  647 non-null    float64\n",
      " 13  zero_crossing_rate_var   647 non-null    float64\n",
      " 14  harmony_mean             647 non-null    float64\n",
      " 15  harmony_var              647 non-null    float64\n",
      " 16  perceptr_mean            647 non-null    float64\n",
      " 17  perceptr_var             647 non-null    float64\n",
      " 18  tempo                    647 non-null    float64\n",
      " 19  mfcc1_mean               647 non-null    float64\n",
      " 20  mfcc1_var                647 non-null    float64\n",
      " 21  mfcc2_mean               647 non-null    float64\n",
      " 22  mfcc2_var                647 non-null    float64\n",
      " 23  mfcc3_mean               647 non-null    float64\n",
      " 24  mfcc3_var                647 non-null    float64\n",
      " 25  mfcc4_mean               647 non-null    float64\n",
      " 26  mfcc4_var                647 non-null    float64\n",
      " 27  mfcc5_mean               647 non-null    float64\n",
      " 28  mfcc5_var                647 non-null    float64\n",
      " 29  mfcc6_mean               647 non-null    float64\n",
      " 30  mfcc6_var                647 non-null    float64\n",
      " 31  mfcc7_mean               647 non-null    float64\n",
      " 32  mfcc7_var                647 non-null    float64\n",
      " 33  mfcc8_mean               647 non-null    float64\n",
      " 34  mfcc8_var                647 non-null    float64\n",
      " 35  mfcc9_mean               647 non-null    float64\n",
      " 36  mfcc9_var                647 non-null    float64\n",
      " 37  mfcc10_mean              647 non-null    float64\n",
      " 38  mfcc10_var               647 non-null    float64\n",
      " 39  mfcc11_mean              647 non-null    float64\n",
      " 40  mfcc11_var               647 non-null    float64\n",
      " 41  mfcc12_mean              647 non-null    float64\n",
      " 42  mfcc12_var               647 non-null    float64\n",
      " 43  mfcc13_mean              647 non-null    float64\n",
      " 44  mfcc13_var               647 non-null    float64\n",
      " 45  mfcc14_mean              647 non-null    float64\n",
      " 46  mfcc14_var               647 non-null    float64\n",
      " 47  mfcc15_mean              647 non-null    float64\n",
      " 48  mfcc15_var               647 non-null    float64\n",
      " 49  mfcc16_mean              647 non-null    float64\n",
      " 50  mfcc16_var               647 non-null    float64\n",
      " 51  mfcc17_mean              647 non-null    float64\n",
      " 52  mfcc17_var               647 non-null    float64\n",
      " 53  mfcc18_mean              647 non-null    float64\n",
      " 54  mfcc18_var               647 non-null    float64\n",
      " 55  mfcc19_mean              647 non-null    float64\n",
      " 56  mfcc19_var               647 non-null    float64\n",
      " 57  mfcc20_mean              647 non-null    float64\n",
      " 58  mfcc20_var               647 non-null    float64\n",
      " 59  label                    647 non-null    object \n",
      "dtypes: float64(57), int64(1), object(2)\n",
      "memory usage: 303.4+ KB\n"
     ]
    }
   ],
   "source": [
    "dataset.info()"
   ]
  },
  {
   "cell_type": "code",
   "execution_count": 6,
   "id": "230cb983-6083-4234-b866-14c980f6dbc0",
   "metadata": {},
   "outputs": [
    {
     "name": "stdout",
     "output_type": "stream",
     "text": [
      ">0,  missing entries: 0, percentage 0.00\n",
      ">1,  missing entries: 0, percentage 0.00\n",
      ">2,  missing entries: 0, percentage 0.00\n",
      ">3,  missing entries: 0, percentage 0.00\n",
      ">4,  missing entries: 0, percentage 0.00\n",
      ">5,  missing entries: 0, percentage 0.00\n",
      ">6,  missing entries: 0, percentage 0.00\n",
      ">7,  missing entries: 0, percentage 0.00\n",
      ">8,  missing entries: 0, percentage 0.00\n",
      ">9,  missing entries: 0, percentage 0.00\n",
      ">10,  missing entries: 0, percentage 0.00\n",
      ">11,  missing entries: 0, percentage 0.00\n",
      ">12,  missing entries: 0, percentage 0.00\n",
      ">13,  missing entries: 0, percentage 0.00\n",
      ">14,  missing entries: 0, percentage 0.00\n",
      ">15,  missing entries: 0, percentage 0.00\n",
      ">16,  missing entries: 0, percentage 0.00\n",
      ">17,  missing entries: 0, percentage 0.00\n",
      ">18,  missing entries: 0, percentage 0.00\n",
      ">19,  missing entries: 0, percentage 0.00\n",
      ">20,  missing entries: 0, percentage 0.00\n",
      ">21,  missing entries: 0, percentage 0.00\n",
      ">22,  missing entries: 0, percentage 0.00\n",
      ">23,  missing entries: 0, percentage 0.00\n",
      ">24,  missing entries: 0, percentage 0.00\n",
      ">25,  missing entries: 0, percentage 0.00\n",
      ">26,  missing entries: 0, percentage 0.00\n",
      ">27,  missing entries: 0, percentage 0.00\n",
      ">28,  missing entries: 0, percentage 0.00\n",
      ">29,  missing entries: 0, percentage 0.00\n",
      ">30,  missing entries: 0, percentage 0.00\n",
      ">31,  missing entries: 0, percentage 0.00\n",
      ">32,  missing entries: 0, percentage 0.00\n",
      ">33,  missing entries: 0, percentage 0.00\n",
      ">34,  missing entries: 0, percentage 0.00\n",
      ">35,  missing entries: 0, percentage 0.00\n",
      ">36,  missing entries: 0, percentage 0.00\n",
      ">37,  missing entries: 0, percentage 0.00\n",
      ">38,  missing entries: 0, percentage 0.00\n",
      ">39,  missing entries: 0, percentage 0.00\n",
      ">40,  missing entries: 0, percentage 0.00\n",
      ">41,  missing entries: 0, percentage 0.00\n",
      ">42,  missing entries: 0, percentage 0.00\n",
      ">43,  missing entries: 0, percentage 0.00\n",
      ">44,  missing entries: 0, percentage 0.00\n",
      ">45,  missing entries: 0, percentage 0.00\n",
      ">46,  missing entries: 0, percentage 0.00\n",
      ">47,  missing entries: 0, percentage 0.00\n",
      ">48,  missing entries: 0, percentage 0.00\n",
      ">49,  missing entries: 0, percentage 0.00\n",
      ">50,  missing entries: 0, percentage 0.00\n",
      ">51,  missing entries: 0, percentage 0.00\n",
      ">52,  missing entries: 0, percentage 0.00\n",
      ">53,  missing entries: 0, percentage 0.00\n",
      ">54,  missing entries: 0, percentage 0.00\n",
      ">55,  missing entries: 0, percentage 0.00\n",
      ">56,  missing entries: 0, percentage 0.00\n",
      ">57,  missing entries: 0, percentage 0.00\n",
      ">58,  missing entries: 0, percentage 0.00\n",
      ">59,  missing entries: 0, percentage 0.00\n"
     ]
    }
   ],
   "source": [
    "for i in range(len(dataset.columns)):\n",
    "    missing_data = dataset[dataset.columns[i]].isna().sum()\n",
    "    perc = missing_data / len(dataset) * 100\n",
    "    print('>%d,  missing entries: %d, percentage %.2f' % (i, missing_data, perc))"
   ]
  },
  {
   "cell_type": "code",
   "execution_count": 7,
   "id": "7c4870ca-87a9-43e3-95b8-3cb9dedefd2b",
   "metadata": {},
   "outputs": [
    {
     "data": {
      "text/plain": [
       "<Axes: >"
      ]
     },
     "execution_count": 7,
     "metadata": {},
     "output_type": "execute_result"
    },
    {
     "data": {
      "image/png": "[encoded data removed]",
      "text/plain": [
       "<Figure size 400x400 with 1 Axes>"
      ]
     },
     "metadata": {},
     "output_type": "display_data"
    }
   ],
   "source": [
    "plt.figure(figsize = (4,4)) #is to create a figure object with a given size\n",
    "sns.heatmap(dataset.isna(), cbar=False, cmap='viridis', yticklabels=False)"
   ]
  },
  {
   "cell_type": "code",
   "execution_count": 46,
   "id": "d9bbdb66-1f02-45c4-9cdf-b49b15d6b462",
   "metadata": {},
   "outputs": [],
   "source": [
    "#convert the dataframe into a numpy array by calling values on my dataframe (not necessary), but a habit I prefer\n",
    "X= dataset.iloc[:, 2:-1].values\n",
    "y = dataset.iloc[:, -1].values"
   ]
  },
  {
   "cell_type": "code",
   "execution_count": 9,
   "id": "3cd9fb58-a383-4950-ba72-02d11bd6ae17",
   "metadata": {},
   "outputs": [
    {
     "name": "stdout",
     "output_type": "stream",
     "text": [
      "[[ 2.3960630e-01  8.8225976e-02  1.0061858e-01 ...  9.6955734e+01\n",
      "  -7.8288445e+00  9.4283900e+01]\n",
      " [ 2.7981030e-01  8.6356050e-02  1.0801109e-01 ...  8.5452460e+01\n",
      "  -6.2835760e+00  1.3878926e+02]\n",
      " [ 2.2487031e-01  8.6093200e-02  1.9552603e-01 ...  9.6953660e+01\n",
      "  -6.0467690e+00  1.0285936e+02]\n",
      " ...\n",
      " [ 2.9128050e-01  8.7488234e-02  1.2414071e-01 ...  7.3819050e+01\n",
      "  -5.1070023e+00  7.0514050e+01]\n",
      " [ 4.3724477e-01  7.9985050e-02  2.8923760e-01 ...  4.9560314e+01\n",
      "  -4.7211680e+00  6.3157978e+01]\n",
      " [ 3.7985608e-01  8.6184570e-02  9.3056254e-02 ...  5.4638226e+01\n",
      "  -2.6495160e+00  5.3403027e+01]]\n"
     ]
    }
   ],
   "source": [
    "print(X)"
   ]
  },
  {
   "cell_type": "code",
   "execution_count": 10,
   "id": "0ad3edcb-1a81-4d7a-92bd-44863d499b32",
   "metadata": {},
   "outputs": [
    {
     "name": "stdout",
     "output_type": "stream",
     "text": [
      "['ballad' 'ballad' 'ballad' 'ballad' 'ballad' 'ballad' 'ballad' 'ballad'\n",
      " 'ballad' 'ballad' 'ballad' 'ballad' 'ballad' 'ballad' 'ballad' 'ballad'\n",
      " 'ballad' 'ballad' 'ballad' 'ballad' 'ballad' 'ballad' 'ballad' 'ballad'\n",
      " 'ballad' 'ballad' 'ballad' 'ballad' 'ballad' 'ballad' 'ballad' 'ballad'\n",
      " 'ballad' 'ballad' 'ballad' 'ballad' 'ballad' 'ballad' 'ballad' 'ballad'\n",
      " 'ballad' 'ballad' 'ballad' 'ballad' 'ballad' 'ballad' 'ballad' 'ballad'\n",
      " 'ballad' 'ballad' 'ballad' 'ballad' 'ballad' 'ballad' 'ballad' 'ballad'\n",
      " 'ballad' 'ballad' 'ballad' 'ballad' 'ballad' 'ballad' 'ballad' 'ballad'\n",
      " 'ballad' 'ballad' 'ballad' 'ballad' 'ballad' 'ballad' 'ballad' 'ballad'\n",
      " 'ballad' 'ballad' 'ballad' 'ballad' 'ballad' 'ballad' 'ballad' 'ballad'\n",
      " 'ballad' 'ballad' 'ballad' 'ballad' 'ballad' 'ballad' 'ballad' 'ballad'\n",
      " 'ballad' 'ballad' 'ballad' 'ballad' 'ballad' 'ballad' 'ballad' 'ballad'\n",
      " 'ballad' 'ballad' 'ballad' 'ballad' 'bolero' 'bolero' 'bolero' 'bolero'\n",
      " 'bolero' 'bolero' 'bolero' 'bolero' 'bolero' 'bolero' 'bolero' 'bolero'\n",
      " 'bolero' 'bolero' 'bolero' 'bolero' 'bolero' 'bolero' 'bolero' 'bolero'\n",
      " 'bolero' 'bolero' 'bolero' 'bolero' 'bolero' 'bolero' 'bolero' 'bolero'\n",
      " 'bolero' 'bolero' 'bolero' 'bolero' 'bolero' 'bolero' 'bolero' 'bolero'\n",
      " 'bolero' 'bolero' 'bolero' 'bolero' 'bolero' 'bolero' 'bolero' 'bolero'\n",
      " 'bolero' 'bolero' 'bolero' 'bolero' 'bolero' 'bolero' 'bolero' 'bolero'\n",
      " 'bolero' 'bolero' 'bolero' 'bolero' 'bolero' 'bolero' 'bolero' 'bolero'\n",
      " 'bolero' 'bolero' 'bolero' 'bolero' 'bolero' 'bolero' 'bolero' 'bolero'\n",
      " 'bolero' 'bolero' 'bolero' 'bolero' 'bolero' 'bolero' 'bolero' 'bolero'\n",
      " 'bolero' 'bolero' 'bolero' 'bolero' 'bolero' 'bolero' 'bolero' 'bolero'\n",
      " 'bolero' 'bolero' 'bolero' 'bolero' 'bolero' 'bolero' 'bolero' 'bolero'\n",
      " 'bolero' 'bolero' 'bolero' 'bolero' 'bolero' 'bolero' 'hiphop' 'hiphop'\n",
      " 'hiphop' 'hiphop' 'hiphop' 'hiphop' 'hiphop' 'hiphop' 'hiphop' 'hiphop'\n",
      " 'hiphop' 'hiphop' 'hiphop' 'hiphop' 'hiphop' 'hiphop' 'hiphop' 'hiphop'\n",
      " 'hiphop' 'hiphop' 'hiphop' 'hiphop' 'hiphop' 'hiphop' 'hiphop' 'hiphop'\n",
      " 'hiphop' 'hiphop' 'hiphop' 'hiphop' 'hiphop' 'hiphop' 'hiphop' 'hiphop'\n",
      " 'hiphop' 'hiphop' 'hiphop' 'hiphop' 'hiphop' 'hiphop' 'hiphop' 'hiphop'\n",
      " 'hiphop' 'hiphop' 'hiphop' 'hiphop' 'hiphop' 'hiphop' 'hiphop' 'hiphop'\n",
      " 'hiphop' 'hiphop' 'hiphop' 'hiphop' 'hiphop' 'hiphop' 'hiphop' 'hiphop'\n",
      " 'hiphop' 'hiphop' 'hiphop' 'hiphop' 'hiphop' 'hiphop' 'hiphop' 'hiphop'\n",
      " 'hiphop' 'hiphop' 'hiphop' 'hiphop' 'hiphop' 'hiphop' 'hiphop' 'hiphop'\n",
      " 'hiphop' 'hiphop' 'hiphop' 'hiphop' 'hiphop' 'hiphop' 'hiphop' 'hiphop'\n",
      " 'hiphop' 'hiphop' 'hiphop' 'hiphop' 'hiphop' 'hiphop' 'hiphop' 'hiphop'\n",
      " 'hiphop' 'hiphop' 'hiphop' 'hiphop' 'hiphop' 'hiphop' 'hiphop' 'hiphop'\n",
      " 'hiphop' 'kid' 'kid' 'kid' 'kid' 'kid' 'kid' 'kid' 'kid' 'kid' 'kid'\n",
      " 'kid' 'kid' 'kid' 'kid' 'kid' 'kid' 'kid' 'kid' 'kid' 'kid' 'kid' 'kid'\n",
      " 'kid' 'kid' 'kid' 'kid' 'kid' 'kid' 'kid' 'kid' 'kid' 'kid' 'kid' 'kid'\n",
      " 'kid' 'kid' 'kid' 'kid' 'kid' 'kid' 'kid' 'kid' 'kid' 'kid' 'kid' 'kid'\n",
      " 'kid' 'kid' 'kid' 'kid' 'kid' 'kid' 'kid' 'kid' 'kid' 'kid' 'kid' 'kid'\n",
      " 'kid' 'kid' 'kid' 'kid' 'kid' 'kid' 'kid' 'kid' 'kid' 'kid' 'kid' 'kid'\n",
      " 'kid' 'kid' 'kid' 'kid' 'kid' 'kid' 'kid' 'kid' 'kid' 'kid' 'kid' 'kid'\n",
      " 'kid' 'kid' 'kid' 'kid' 'kid' 'kid' 'kid' 'kid' 'kid' 'kid' 'kid' 'kid'\n",
      " 'kid' 'kid' 'kid' 'kid' 'kid' 'kid' 'kid' 'kid' 'kid' 'kid' 'kid' 'kid'\n",
      " 'kid' 'kid' 'kid' 'kid' 'kid' 'kid' 'kid' 'kid' 'kid' 'kid' 'red' 'red'\n",
      " 'red' 'red' 'red' 'red' 'red' 'red' 'red' 'red' 'red' 'red' 'red' 'red'\n",
      " 'red' 'red' 'red' 'red' 'red' 'red' 'red' 'red' 'red' 'red' 'red' 'red'\n",
      " 'red' 'red' 'red' 'red' 'red' 'red' 'red' 'red' 'red' 'red' 'red' 'red'\n",
      " 'red' 'red' 'red' 'red' 'red' 'red' 'red' 'red' 'red' 'red' 'red' 'red'\n",
      " 'red' 'red' 'red' 'red' 'red' 'red' 'red' 'red' 'red' 'red' 'red' 'red'\n",
      " 'red' 'red' 'red' 'red' 'red' 'red' 'red' 'red' 'red' 'red' 'red' 'red'\n",
      " 'red' 'red' 'red' 'red' 'red' 'red' 'red' 'red' 'red' 'red' 'red' 'red'\n",
      " 'red' 'red' 'red' 'red' 'red' 'red' 'red' 'red' 'red' 'red' 'red' 'red'\n",
      " 'red' 'red' 'red' 'red' 'red' 'red' 'rock' 'rock' 'rock' 'rock' 'rock'\n",
      " 'rock' 'rock' 'rock' 'rock' 'rock' 'rock' 'rock' 'rock' 'rock' 'rock'\n",
      " 'rock' 'rock' 'rock' 'rock' 'rock' 'rock' 'rock' 'rock' 'rock' 'rock'\n",
      " 'rock' 'rock' 'rock' 'rock' 'rock' 'rock' 'rock' 'rock' 'rock' 'rock'\n",
      " 'rock' 'rock' 'rock' 'rock' 'rock' 'rock' 'rock' 'rock' 'rock' 'rock'\n",
      " 'rock' 'rock' 'rock' 'rock' 'rock' 'rock' 'rock' 'rock' 'rock' 'rock'\n",
      " 'rock' 'rock' 'rock' 'rock' 'rock' 'rock' 'rock' 'rock' 'rock' 'rock'\n",
      " 'rock' 'rock' 'rock' 'rock' 'rock' 'rock' 'rock' 'rock' 'rock' 'rock'\n",
      " 'rock' 'rock' 'rock' 'rock' 'rock' 'rock' 'rock' 'rock' 'rock' 'rock'\n",
      " 'rock' 'rock' 'rock' 'rock' 'rock' 'rock' 'rock' 'rock' 'rock' 'rock'\n",
      " 'rock' 'rock' 'rock' 'rock' 'rock' 'rock' 'rock' 'rock' 'rock' 'rock'\n",
      " 'rock' 'rock' 'rock' 'rock' 'rock' 'rock' 'rock' 'rock' 'rock' 'rock'\n",
      " 'rock' 'rock' 'rock' 'rock' 'rock' 'rock' 'rock' 'rock' 'rock' 'rock'\n",
      " 'rock' 'rock' 'rock' 'rock' 'rock']\n"
     ]
    }
   ],
   "source": [
    "print(y)"
   ]
  },
  {
   "cell_type": "code",
   "execution_count": 47,
   "id": "6ce8efcd-d0aa-46aa-9ad3-5114a743e5ac",
   "metadata": {},
   "outputs": [],
   "source": [
    "from sklearn.preprocessing import LabelEncoder\n",
    "le = LabelEncoder()\n",
    "#output of fit_transform of Label Encoder is already a Numpy Array\n",
    "y = le.fit_transform(y)"
   ]
  },
  {
   "cell_type": "code",
   "execution_count": 12,
   "id": "0690d084-3778-41ec-acbb-ca19644a891d",
   "metadata": {},
   "outputs": [
    {
     "name": "stdout",
     "output_type": "stream",
     "text": [
      "[0 0 0 0 0 0 0 0 0 0 0 0 0 0 0 0 0 0 0 0 0 0 0 0 0 0 0 0 0 0 0 0 0 0 0 0 0\n",
      " 0 0 0 0 0 0 0 0 0 0 0 0 0 0 0 0 0 0 0 0 0 0 0 0 0 0 0 0 0 0 0 0 0 0 0 0 0\n",
      " 0 0 0 0 0 0 0 0 0 0 0 0 0 0 0 0 0 0 0 0 0 0 0 0 0 0 1 1 1 1 1 1 1 1 1 1 1\n",
      " 1 1 1 1 1 1 1 1 1 1 1 1 1 1 1 1 1 1 1 1 1 1 1 1 1 1 1 1 1 1 1 1 1 1 1 1 1\n",
      " 1 1 1 1 1 1 1 1 1 1 1 1 1 1 1 1 1 1 1 1 1 1 1 1 1 1 1 1 1 1 1 1 1 1 1 1 1\n",
      " 1 1 1 1 1 1 1 1 1 1 1 1 1 2 2 2 2 2 2 2 2 2 2 2 2 2 2 2 2 2 2 2 2 2 2 2 2\n",
      " 2 2 2 2 2 2 2 2 2 2 2 2 2 2 2 2 2 2 2 2 2 2 2 2 2 2 2 2 2 2 2 2 2 2 2 2 2\n",
      " 2 2 2 2 2 2 2 2 2 2 2 2 2 2 2 2 2 2 2 2 2 2 2 2 2 2 2 2 2 2 2 2 2 2 2 2 2\n",
      " 2 3 3 3 3 3 3 3 3 3 3 3 3 3 3 3 3 3 3 3 3 3 3 3 3 3 3 3 3 3 3 3 3 3 3 3 3\n",
      " 3 3 3 3 3 3 3 3 3 3 3 3 3 3 3 3 3 3 3 3 3 3 3 3 3 3 3 3 3 3 3 3 3 3 3 3 3\n",
      " 3 3 3 3 3 3 3 3 3 3 3 3 3 3 3 3 3 3 3 3 3 3 3 3 3 3 3 3 3 3 3 3 3 3 3 3 3\n",
      " 3 3 3 3 3 3 4 4 4 4 4 4 4 4 4 4 4 4 4 4 4 4 4 4 4 4 4 4 4 4 4 4 4 4 4 4 4\n",
      " 4 4 4 4 4 4 4 4 4 4 4 4 4 4 4 4 4 4 4 4 4 4 4 4 4 4 4 4 4 4 4 4 4 4 4 4 4\n",
      " 4 4 4 4 4 4 4 4 4 4 4 4 4 4 4 4 4 4 4 4 4 4 4 4 4 4 4 4 4 4 4 4 4 4 4 4 5\n",
      " 5 5 5 5 5 5 5 5 5 5 5 5 5 5 5 5 5 5 5 5 5 5 5 5 5 5 5 5 5 5 5 5 5 5 5 5 5\n",
      " 5 5 5 5 5 5 5 5 5 5 5 5 5 5 5 5 5 5 5 5 5 5 5 5 5 5 5 5 5 5 5 5 5 5 5 5 5\n",
      " 5 5 5 5 5 5 5 5 5 5 5 5 5 5 5 5 5 5 5 5 5 5 5 5 5 5 5 5 5 5 5 5 5 5 5 5 5\n",
      " 5 5 5 5 5 5 5 5 5 5 5 5 5 5 5 5 5 5]\n"
     ]
    }
   ],
   "source": [
    "print(y)"
   ]
  },
  {
   "cell_type": "code",
   "execution_count": 48,
   "id": "03aa38dd-d5c3-4675-8299-145b4d451704",
   "metadata": {},
   "outputs": [],
   "source": [
    "from sklearn.model_selection import train_test_split\n",
    "X_train, X_test, y_train, y_test = train_test_split(X, y, test_size = 0.2, random_state = 1)"
   ]
  },
  {
   "cell_type": "code",
   "execution_count": 14,
   "id": "be946189-accb-47cb-a313-f1f87bf4eb12",
   "metadata": {},
   "outputs": [
    {
     "name": "stdout",
     "output_type": "stream",
     "text": [
      "[[ 2.9370308e-01  8.6973585e-02  2.4819909e-01 ...  1.2562819e+02\n",
      "  -6.4264800e+00  1.6670479e+02]\n",
      " [ 3.8871622e-01  1.0127428e-01  1.9115900e-01 ...  1.6776123e+02\n",
      "   8.2514780e+00  1.8524539e+02]\n",
      " [ 2.5244427e-01  8.4036120e-02  2.2917019e-01 ...  1.8037495e+02\n",
      "   7.5878606e+00  1.3294696e+02]\n",
      " ...\n",
      " [ 2.3419183e-01  9.1920150e-02  1.5135646e-01 ...  1.3832104e+02\n",
      "  -5.1615496e+00  1.7419669e+02]\n",
      " [ 3.9101255e-01  9.4228946e-02  2.7949286e-01 ...  7.1908890e+01\n",
      "  -2.2605565e+00  7.6271580e+01]\n",
      " [ 2.5027224e-01  9.1549120e-02  1.8906277e-01 ...  9.6076860e+01\n",
      "  -6.5985007e+00  9.2879776e+01]]\n"
     ]
    }
   ],
   "source": [
    "print(X_train)"
   ]
  },
  {
   "cell_type": "code",
   "execution_count": 15,
   "id": "12024a5f-c8f1-4bec-927d-d6fde87ddd42",
   "metadata": {},
   "outputs": [
    {
     "name": "stdout",
     "output_type": "stream",
     "text": [
      "[[ 2.66507570e-01  8.83412360e-02  1.95405400e-01 ...  2.25410170e+02\n",
      "   6.19917350e+00  2.01887010e+02]\n",
      " [ 3.04428280e-01  8.59865250e-02  1.83409800e-01 ...  7.79041060e+01\n",
      "  -5.96130900e+00  9.93338240e+01]\n",
      " [ 3.85924700e-01  9.15586200e-02  2.10209800e-01 ...  8.43001700e+01\n",
      "   2.07371700e+00  8.77118500e+01]\n",
      " ...\n",
      " [ 2.88240580e-01  9.39971100e-02  1.35877040e-01 ...  1.20350136e+02\n",
      "  -3.92788500e+00  9.07031400e+01]\n",
      " [ 3.14929200e-01  9.01425300e-02  1.77883850e-01 ...  1.34896820e+02\n",
      "   2.18855980e+00  1.20490166e+02]\n",
      " [ 3.15397320e-01  8.88622100e-02  2.34784050e-01 ...  5.91260400e+01\n",
      "   3.59254360e+00  7.28750600e+01]]\n"
     ]
    }
   ],
   "source": [
    "print(X_test)"
   ]
  },
  {
   "cell_type": "code",
   "execution_count": 16,
   "id": "e8d214f4-2654-4b0c-aed6-9166a2859732",
   "metadata": {},
   "outputs": [
    {
     "name": "stdout",
     "output_type": "stream",
     "text": [
      "[3 3 3 0 3 0 5 5 4 3 4 4 2 2 1 2 4 0 5 3 0 1 0 4 2 4 5 5 3 5 2 2 0 2 0 4 5\n",
      " 0 2 5 3 1 1 0 1 0 5 4 3 1 3 4 5 3 4 0 3 5 0 3 4 1 5 1 2 0 5 3 0 5 2 0 3 3\n",
      " 1 5 0 3 5 1 0 0 4 4 3 0 3 2 5 5 1 4 0 0 0 1 4 0 1 3 0 1 3 2 5 5 1 3 3 5 1\n",
      " 4 4 5 3 3 5 5 5 1 4 2 4 1 1 1 4 5 4 1 0 3 3 0 3 1 5 1 4 3 5 4 1 5 0 2 4 2\n",
      " 3 0 2 5 2 3 3 0 4 2 0 2 0 1 4 2 4 4 5 2 4 5 0 2 2 2 3 1 1 4 5 3 0 3 2 2 2\n",
      " 2 5 4 2 1 5 1 5 5 5 2 5 3 2 5 0 3 3 0 3 5 0 4 1 5 0 3 0 0 3 0 1 1 4 5 4 3\n",
      " 0 3 5 1 5 3 0 5 4 5 4 2 1 5 3 1 3 0 5 0 2 3 1 1 4 1 2 3 1 1 5 0 2 1 2 4 2\n",
      " 3 2 1 1 3 5 4 2 2 1 3 2 4 2 1 4 1 1 4 2 1 4 3 1 4 2 2 1 2 3 5 5 4 4 4 3 5\n",
      " 1 5 0 2 4 2 3 4 2 1 2 5 3 5 0 2 3 5 5 1 2 2 5 1 2 0 5 1 0 2 1 3 1 0 0 0 0\n",
      " 0 0 1 1 3 2 0 2 5 0 1 5 5 3 0 0 5 5 0 4 4 0 3 0 4 3 5 4 3 3 4 4 2 3 5 3 0\n",
      " 4 4 5 3 5 1 2 5 2 0 2 5 4 3 2 4 1 2 5 5 5 4 5 2 3 3 1 5 5 4 2 0 1 3 5 1 3\n",
      " 2 4 5 2 4 1 3 5 4 1 1 4 4 1 5 0 2 0 2 5 5 5 5 5 3 0 0 2 1 4 5 4 5 4 2 3 3\n",
      " 1 3 1 3 2 0 5 4 2 1 5 1 3 3 2 1 0 2 4 3 0 1 0 0 4 3 3 0 5 0 4 4 5 5 4 3 0\n",
      " 5 4 4 2 2 3 4 3 5 3 0 3 1 0 4 4 2 5 5 3 4 2 4 3 2 2 1 2 3 4 5 1 1 0 2 0]\n"
     ]
    }
   ],
   "source": [
    "print(y_train)"
   ]
  },
  {
   "cell_type": "code",
   "execution_count": 17,
   "id": "627e3f94-61f4-4b71-a8fe-7b2083ddd66f",
   "metadata": {},
   "outputs": [
    {
     "name": "stdout",
     "output_type": "stream",
     "text": [
      "[3 4 5 3 4 4 5 5 1 3 1 0 5 4 1 0 2 3 2 0 0 5 4 4 0 2 5 0 3 2 5 0 5 5 4 1 4\n",
      " 3 3 0 0 3 1 3 0 0 3 5 1 2 5 1 0 5 4 1 2 3 2 1 5 4 5 2 2 0 4 2 3 3 5 5 5 1\n",
      " 0 0 4 5 3 2 5 2 5 3 1 0 0 1 4 1 5 3 5 1 4 4 3 5 5 5 4 4 3 2 0 1 1 5 1 5 4\n",
      " 5 3 5 5 1 3 3 4 2 5 3 4 3 4 0 2 2 3 3]\n"
     ]
    }
   ],
   "source": [
    "print(y_test)"
   ]
  },
  {
   "cell_type": "code",
   "execution_count": 49,
   "id": "7b759c54-0b85-40d7-bce4-d8dfcd601f08",
   "metadata": {},
   "outputs": [],
   "source": [
    "from sklearn.preprocessing import StandardScaler\n",
    "sc = StandardScaler()\n",
    "X_train[:,:] = sc.fit_transform(X_train[:,:])\n",
    "#only use Transform to use the SAME scaler as the Training Set\n",
    "X_test[:,:] = sc.transform(X_test[:,:])"
   ]
  },
  {
   "cell_type": "code",
   "execution_count": 19,
   "id": "f3ed8ed9-1ab6-4e4d-afa2-6a714f7e3d95",
   "metadata": {},
   "outputs": [
    {
     "name": "stdout",
     "output_type": "stream",
     "text": [
      "[[-0.73653345 -0.14109907  0.11876118 ...  2.64786434  1.61216186\n",
      "   1.88343925]\n",
      " [-0.22289991 -0.70341979 -0.05782207 ... -0.44183041 -1.24600955\n",
      "  -0.08259596]\n",
      " [ 0.88096378  0.62723371  0.33669184 ... -0.30785703  0.6425242\n",
      "  -0.30539947]\n",
      " ...\n",
      " [-0.44216125  1.20956141 -0.75753605 ...  0.44725355 -0.76807832\n",
      "  -0.2480538 ]\n",
      " [-0.08066563  0.28906196 -0.13916774 ...  0.75195162  0.66951658\n",
      "   0.32298982]\n",
      " [-0.07432498 -0.016687    0.69844122 ... -0.83515995  0.99950566\n",
      "  -0.58983385]]\n"
     ]
    }
   ],
   "source": [
    "print(X_test)"
   ]
  },
  {
   "cell_type": "code",
   "execution_count": 20,
   "id": "bc930541-0df3-4ba5-8a01-e33b9665fdee",
   "metadata": {},
   "outputs": [
    {
     "name": "stdout",
     "output_type": "stream",
     "text": [
      "[[-0.73653345 -0.14109907  0.11876118 ...  2.64786434  1.61216186\n",
      "   1.88343925]\n",
      " [-0.22289991 -0.70341979 -0.05782207 ... -0.44183041 -1.24600955\n",
      "  -0.08259596]\n",
      " [ 0.88096378  0.62723371  0.33669184 ... -0.30785703  0.6425242\n",
      "  -0.30539947]\n",
      " ...\n",
      " [-0.44216125  1.20956141 -0.75753605 ...  0.44725355 -0.76807832\n",
      "  -0.2480538 ]\n",
      " [-0.08066563  0.28906196 -0.13916774 ...  0.75195162  0.66951658\n",
      "   0.32298982]\n",
      " [-0.07432498 -0.016687    0.69844122 ... -0.83515995  0.99950566\n",
      "  -0.58983385]]\n"
     ]
    }
   ],
   "source": [
    "print(X_test)"
   ]
  },
  {
   "cell_type": "markdown",
   "id": "b62e4a4c-950b-47e3-bc1c-0c28b41845e2",
   "metadata": {},
   "source": [
    "## 2.Train"
   ]
  },
  {
   "cell_type": "code",
   "execution_count": 50,
   "id": "710ca44f-3b92-4b75-9f54-755b18298ef9",
   "metadata": {},
   "outputs": [],
   "source": [
    "from sklearn.linear_model import LogisticRegression\n",
    "from sklearn.neighbors import KNeighborsClassifier\n",
    "from sklearn.ensemble import RandomForestClassifier\n",
    "from sklearn.tree import DecisionTreeClassifier\n",
    "from sklearn.svm import SVC \n",
    "from sklearn.ensemble import GradientBoostingClassifier\n",
    "from sklearn.naive_bayes import GaussianNB"
   ]
  },
  {
   "cell_type": "code",
   "execution_count": 71,
   "id": "d582e7df-f53e-45b4-bd31-21d24f6a0759",
   "metadata": {},
   "outputs": [],
   "source": [
    "# Put models in a dictionary\n",
    "models = {\"Logistic Regression\": LogisticRegression(max_iter=10000), \n",
    "          \"KNN\": KNeighborsClassifier(),\n",
    "          \"Random Forest\": RandomForestClassifier(),\n",
    "          \"Decision Tree\": DecisionTreeClassifier(),\n",
    "          \"SVM\": SVC(),\n",
    "          \"GBM\": GradientBoostingClassifier(),\n",
    "          \"Naive Bayes\": GaussianNB()}\n",
    "\n",
    "# Creat a funciton to fit and score models\n",
    "def fit_and_score(models, X_train, X_test, y_train, y_test):\n",
    "    \"\"\"\n",
    "    Fits and evaluates given machine learning models.\n",
    "    models : a dict of different Scikit-Learn machine learning models\n",
    "    X_train : training data\n",
    "    X_test : testing data\n",
    "    y_train : labels associated with training data\n",
    "    y_test : labels associated with test data\n",
    "    \"\"\"\n",
    "    # Set random seed\n",
    "    np.random.seed(42)\n",
    "    # Make a dictionary to keep model scores and trained models\n",
    "    model_scores = {}\n",
    "    trained_models = {}\n",
    "    # Loop through models\n",
    "    for name, model in models.items():\n",
    "        # Fit the model to the data\n",
    "        model.fit(X_train, y_train)\n",
    "        # Evaluate the model and append its score to model_scores\n",
    "        model_scores[name] = model.score(X_test, y_test)\n",
    "        # Save the trained model\n",
    "        trained_models[name] = model\n",
    "    return model_scores, trained_models\n"
   ]
  },
  {
   "cell_type": "code",
   "execution_count": 72,
   "id": "ca6696f4-7c59-4ac9-9fbc-3c925f32b07c",
   "metadata": {},
   "outputs": [
    {
     "data": {
      "text/plain": [
       "{'Logistic Regression': 0.8846153846153846,\n",
       " 'KNN': 0.7769230769230769,\n",
       " 'Random Forest': 0.823076923076923,\n",
       " 'Decision Tree': 0.6230769230769231,\n",
       " 'SVM': 0.8615384615384616,\n",
       " 'GBM': 0.823076923076923,\n",
       " 'Naive Bayes': 0.7153846153846154}"
      ]
     },
     "execution_count": 72,
     "metadata": {},
     "output_type": "execute_result"
    }
   ],
   "source": [
    "\n",
    "model_scores, trained_models = fit_and_score(models=models,\n",
    "                                             X_train=X_train,\n",
    "                                             X_test=X_test,\n",
    "                                             y_train=y_train,\n",
    "                                             y_test=y_test)\n",
    "model_scores"
   ]
  },
  {
   "cell_type": "code",
   "execution_count": 54,
   "id": "55e71a61-d915-4fdb-bb5a-62140de35e97",
   "metadata": {},
   "outputs": [
    {
     "data": {
      "text/html": [
       "<div>\n",
       "<style scoped>\n",
       "    .dataframe tbody tr th:only-of-type {\n",
       "        vertical-align: middle;\n",
       "    }\n",
       "\n",
       "    .dataframe tbody tr th {\n",
       "        vertical-align: top;\n",
       "    }\n",
       "\n",
       "    .dataframe thead th {\n",
       "        text-align: right;\n",
       "    }\n",
       "</style>\n",
       "<table border=\"1\" class=\"dataframe\">\n",
       "  <thead>\n",
       "    <tr style=\"text-align: right;\">\n",
       "      <th></th>\n",
       "      <th>Logistic Regression</th>\n",
       "      <th>KNN</th>\n",
       "      <th>Random Forest</th>\n",
       "      <th>Decision Tree</th>\n",
       "      <th>SVM</th>\n",
       "      <th>GBM</th>\n",
       "      <th>Naive Bayes</th>\n",
       "    </tr>\n",
       "  </thead>\n",
       "  <tbody>\n",
       "    <tr>\n",
       "      <th>accuracy</th>\n",
       "      <td>0.884615</td>\n",
       "      <td>0.776923</td>\n",
       "      <td>0.823077</td>\n",
       "      <td>0.623077</td>\n",
       "      <td>0.861538</td>\n",
       "      <td>0.823077</td>\n",
       "      <td>0.715385</td>\n",
       "    </tr>\n",
       "  </tbody>\n",
       "</table>\n",
       "</div>"
      ],
      "text/plain": [
       "          Logistic Regression       KNN  Random Forest  Decision Tree  \\\n",
       "accuracy             0.884615  0.776923       0.823077       0.623077   \n",
       "\n",
       "               SVM       GBM  Naive Bayes  \n",
       "accuracy  0.861538  0.823077     0.715385  "
      ]
     },
     "execution_count": 54,
     "metadata": {},
     "output_type": "execute_result"
    }
   ],
   "source": [
    "model_compare = pd.DataFrame(model_scores, index=[\"accuracy\"])\n",
    "model_compare"
   ]
  },
  {
   "cell_type": "code",
   "execution_count": 55,
   "id": "f7ac99fc-abf5-4217-a99c-dfb6671f9096",
   "metadata": {},
   "outputs": [
    {
     "data": {
      "image/png": "[encoded data removed]",
      "text/plain": [
       "<Figure size 640x480 with 1 Axes>"
      ]
     },
     "metadata": {},
     "output_type": "display_data"
    }
   ],
   "source": [
    "model_compare.T.plot.bar();"
   ]
  },
  {
   "cell_type": "code",
   "execution_count": 62,
   "id": "3f970b10-5e46-46fd-8dce-601b3798bc8a",
   "metadata": {},
   "outputs": [],
   "source": [
    "from sklearn.model_selection import RandomizedSearchCV, GridSearchCV"
   ]
  },
  {
   "cell_type": "code",
   "execution_count": 63,
   "id": "a781ca8b-88d1-49de-bf0d-abccb71628c9",
   "metadata": {},
   "outputs": [],
   "source": [
    "# Create a hyper-parameter grid for LogisticRegression()\n",
    "\n",
    "log_reg_grid = {\"C\": np.logspace(-4,4,20), #most valuable for Log Reg model\n",
    "                \"solver\": [\"liblinear\"]}\n",
    "\n",
    "# Create a hyper-parameter grid for RandomForestClassifier()\n",
    "rf_grid = {\"n_estimators\": np.arange(10,1000,50),\n",
    "           \"max_depth\": [None, 3,5,10],\n",
    "           \"min_samples_split\": np.arange(2,20,2),\n",
    "           \"min_samples_leaf\": np.arange(1,20,2)}\n",
    "# Create a hyper-parameter grid for SVM\n",
    "svm_grid = {'C': np.logspace(-3, 3, 10), \n",
    "            'gamma': ['scale', 'auto'], \n",
    "            'kernel': ['linear', 'poly', 'rbf', 'sigmoid']}\n",
    "# Create a hyper-parameter grid for GradientBoostingClassifier\n",
    "gbm_grid = {'learning_rate': [0.01, 0.05, 0.1, 0.2], \n",
    "            'n_estimators': [50, 100, 200], \n",
    "            'max_depth': [3, 5, 7, 9], \n",
    "            'min_samples_split': [2, 5, 10], \n",
    "            'min_samples_leaf': [1, 2, 4]}"
   ]
  },
  {
   "cell_type": "code",
   "execution_count": 64,
   "id": "78e3308e-4bd0-45c0-a825-cc9c2c462d13",
   "metadata": {},
   "outputs": [],
   "source": [
    "# Put models in a dictionary\n",
    "params_grid = {\"Logistic Regression\": (LogisticRegression(max_iter=10000), log_reg_grid),\n",
    "               \"Random Forest\": (RandomForestClassifier(), rf_grid),\n",
    "               \"SVM\": (SVC(), svm_grid),\n",
    "               \"GBM\": (GradientBoostingClassifier(), gbm_grid)}\n",
    "\n",
    "# Creat a funciton to hyperparameter tuning with RandomizedSearchCV\n",
    "def tune(params_grid, X_train, X_test, y_train, y_test):\n",
    "    np.random.seed(42)\n",
    "    rs_scores = {}\n",
    "    for name, (model, param_grid) in params_grid.items():\n",
    "        rs = RandomizedSearchCV(model, param_distributions=param_grid, cv=5, n_iter=20, verbose=True, n_jobs=-1)\n",
    "        rs.fit(X_train, y_train)\n",
    "        rs_scores[name] = rs.score(X_test, y_test)\n",
    "    return rs_scores"
   ]
  },
  {
   "cell_type": "code",
   "execution_count": 65,
   "id": "33582f37-eb0e-4fbf-b6b0-420b6dff3a95",
   "metadata": {},
   "outputs": [
    {
     "name": "stdout",
     "output_type": "stream",
     "text": [
      "Fitting 5 folds for each of 20 candidates, totalling 100 fits\n",
      "Fitting 5 folds for each of 20 candidates, totalling 100 fits\n",
      "Fitting 5 folds for each of 20 candidates, totalling 100 fits\n",
      "Fitting 5 folds for each of 20 candidates, totalling 100 fits\n"
     ]
    },
    {
     "data": {
      "text/plain": [
       "{'Logistic Regression': 0.8538461538461538,\n",
       " 'Random Forest': 0.8,\n",
       " 'SVM': 0.8461538461538461,\n",
       " 'GBM': 0.823076923076923}"
      ]
     },
     "execution_count": 65,
     "metadata": {},
     "output_type": "execute_result"
    }
   ],
   "source": [
    "rs_scores = tune(params_grid=params_grid,\n",
    "                            X_train=X_train,\n",
    "                            X_test=X_test,\n",
    "                            y_train=y_train,\n",
    "                            y_test=y_test)\n",
    "rs_scores"
   ]
  },
  {
   "cell_type": "code",
   "execution_count": 66,
   "id": "d6d145dc-78f5-44b2-9d3c-8761e37956d4",
   "metadata": {},
   "outputs": [
    {
     "name": "stdout",
     "output_type": "stream",
     "text": [
      "Fitting 5 folds for each of 30 candidates, totalling 150 fits\n"
     ]
    }
   ],
   "source": [
    "# Different hyperparameters for our LogisticRegression model\n",
    "log_reg_grid = {\"C\": np.logspace(-4, 4, 30),\n",
    "                \"solver\": [\"liblinear\"]}\n",
    "\n",
    "# Setup grid hyperparameter search for LogisticRegression\n",
    "gs_log_reg = GridSearchCV(LogisticRegression(),\n",
    "                          param_grid=log_reg_grid,\n",
    "                          cv=5,\n",
    "                          verbose=True)\n",
    "\n",
    "# Fit grid hyperparameter search model\n",
    "gs_log_reg.fit(X_train, y_train);"
   ]
  },
  {
   "cell_type": "code",
   "execution_count": 67,
   "id": "c33be84c-73bc-4286-b96c-373400b52bab",
   "metadata": {},
   "outputs": [
    {
     "data": {
      "text/plain": [
       "0.8461538461538461"
      ]
     },
     "execution_count": 67,
     "metadata": {},
     "output_type": "execute_result"
    }
   ],
   "source": [
    "# Evaluate the grid search LogisticRegression model\n",
    "gs_log_reg.score(X_test, y_test)\n"
   ]
  },
  {
   "cell_type": "markdown",
   "id": "4d2947e5-7a89-4ae2-83fb-eb2470073fc0",
   "metadata": {},
   "source": [
    "## 3. Evaluation"
   ]
  },
  {
   "cell_type": "code",
   "execution_count": 78,
   "id": "fe4b4a05-012d-4b28-9e84-cfefa8ea0622",
   "metadata": {},
   "outputs": [],
   "source": [
    "## Model evaluators\n",
    "from sklearn.model_selection import train_test_split, cross_val_score\n",
    "from sklearn.metrics import confusion_matrix, classification_report\n",
    "from sklearn.metrics import precision_score, recall_score, f1_score #Classification Problem"
   ]
  },
  {
   "cell_type": "code",
   "execution_count": 82,
   "id": "ea439dbd-fbd5-4b1b-882e-3b46aba13956",
   "metadata": {},
   "outputs": [],
   "source": [
    "logistic_regression_model = trained_models[\"Logistic Regression\"]\n",
    "y_preds = logistic_regression_model.predict(X_test)"
   ]
  },
  {
   "cell_type": "code",
   "execution_count": 83,
   "id": "538a64b0-3368-4e1f-a6ec-0729d52f27d0",
   "metadata": {},
   "outputs": [
    {
     "name": "stdout",
     "output_type": "stream",
     "text": [
      "[[18  0  0  0  1  0]\n",
      " [ 0 15  0  1  0  0]\n",
      " [ 2  0 16  1  0  0]\n",
      " [ 0  1  0 18  0  0]\n",
      " [ 4  0  0  0 18  1]\n",
      " [ 0  0  0  3  1 30]]\n"
     ]
    }
   ],
   "source": [
    "print(confusion_matrix(y_test, y_preds))"
   ]
  },
  {
   "cell_type": "code",
   "execution_count": 84,
   "id": "21bf5dbc-fb81-4618-9f57-f57ee9206a9c",
   "metadata": {},
   "outputs": [
    {
     "data": {
      "image/png": "[encoded data removed]",
      "text/plain": [
       "<Figure size 300x300 with 1 Axes>"
      ]
     },
     "metadata": {},
     "output_type": "display_data"
    }
   ],
   "source": [
    "sns.set(font_scale=1.5) # Increase font size\n",
    " \n",
    "def plot_conf_mat(y_test, y_preds):\n",
    "    \"\"\"\n",
    "    Plots a confusion matrix using Seaborn's heatmap().\n",
    "    \"\"\"\n",
    "    fig, ax = plt.subplots(figsize=(3, 3))\n",
    "    ax = sns.heatmap(confusion_matrix(y_test, y_preds),\n",
    "                     annot=True, # Annotate the boxes\n",
    "                     cbar=False,\n",
    "                     cmap=\"Blues\")\n",
    "    plt.xlabel(\"Predicted label\") # predictions go on the x-axis\n",
    "    plt.ylabel(\"True label\") # true labels go on the y-axis \n",
    "    \n",
    "plot_conf_mat(y_test, y_preds)"
   ]
  },
  {
   "cell_type": "code",
   "execution_count": 85,
   "id": "83450ed1-f196-4d78-ac8a-48603d367850",
   "metadata": {},
   "outputs": [
    {
     "name": "stdout",
     "output_type": "stream",
     "text": [
      "              precision    recall  f1-score   support\n",
      "\n",
      "           0       0.75      0.95      0.84        19\n",
      "           1       0.94      0.94      0.94        16\n",
      "           2       1.00      0.84      0.91        19\n",
      "           3       0.78      0.95      0.86        19\n",
      "           4       0.90      0.78      0.84        23\n",
      "           5       0.97      0.88      0.92        34\n",
      "\n",
      "    accuracy                           0.88       130\n",
      "   macro avg       0.89      0.89      0.88       130\n",
      "weighted avg       0.90      0.88      0.89       130\n",
      "\n"
     ]
    }
   ],
   "source": [
    "print(classification_report(y_test, y_preds)) #Based on only 1 test set"
   ]
  },
  {
   "cell_type": "code",
   "execution_count": null,
   "id": "59d843d9-cb8b-43a2-95f6-1c8e029c520d",
   "metadata": {},
   "outputs": [],
   "source": []
  }
 ],
 "metadata": {
  "kernelspec": {
   "display_name": "Python 3 (ipykernel)",
   "language": "python",
   "name": "python3"
  },
  "language_info": {
   "codemirror_mode": {
    "name": "ipython",
    "version": 3
   },
   "file_extension": ".py",
   "mimetype": "text/x-python",
   "name": "python",
   "nbconvert_exporter": "python",
   "pygments_lexer": "ipython3",
   "version": "3.12.0"
  },
  "vscode": {
   "interpreter": {
    "hash": "981d7c869dd2079483315c95b86c039a0bfcee0010f0840c07f83e4c693b861d"
   }
  }
 },
 "nbformat": 4,
 "nbformat_minor": 5
}
